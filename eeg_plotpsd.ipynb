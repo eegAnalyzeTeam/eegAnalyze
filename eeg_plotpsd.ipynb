{
 "cells": [
  {
   "cell_type": "code",
   "execution_count": 2,
   "metadata": {},
   "outputs": [
    {
     "name": "stdout",
     "output_type": "stream",
     "text": [
      "Automatically created module for IPython interactive environment\n",
      "Extracting parameters from jkdz_mwy_20180429_open.vhdr...\n",
      "Setting channel info structure...\n",
      "Reading 0 ... 1007399  =      0.000 ...   201.480 secs...\n",
      "The following EEG sensors did not have a position specified in the selected montage: ['ECG']. Their position has been left untouched.\n",
      "[[     0      0      1]\n",
      " [ 50000      0      1]\n",
      " [100000      0      1]\n",
      " [150000      0      1]\n",
      " [200000      0      1]\n",
      " [250000      0      1]\n",
      " [300000      0      1]\n",
      " [350000      0      1]\n",
      " [400000      0      1]\n",
      " [450000      0      1]\n",
      " [500000      0      1]\n",
      " [550000      0      1]\n",
      " [600000      0      1]\n",
      " [650000      0      1]\n",
      " [700000      0      1]\n",
      " [750000      0      1]\n",
      " [800000      0      1]\n",
      " [850000      0      1]\n",
      " [900000      0      1]\n",
      " [950000      0      1]]\n",
      "20 matching events found\n",
      "Applying baseline correction (mode: mean)\n",
      "Not setting metadata\n",
      "0 projection items activated\n",
      "Loading data for 20 events and 50001 original time points ...\n"
     ]
    },
    {
     "name": "stderr",
     "output_type": "stream",
     "text": [
      "<ipython-input-2-d917cdbdf4e1>:11: RuntimeWarning: The following EEG sensors did not have a position specified in the selected montage: ['ECG']. Their position has been left untouched.\n",
      "  raw.set_montage(mne.channels.read_montage(\"standard_1020\"))\n"
     ]
    },
    {
     "name": "stdout",
     "output_type": "stream",
     "text": [
      "0 bad epochs dropped\n",
      "<Epochs  |   20 events (all good), 0 - 10 sec, baseline [None, 0], ~496.1 MB, data loaded,\n",
      " '1': 20>\n",
      "No projector specified for this dataset. Please consider the method self.add_proj.\n",
      "    using multitaper spectrum estimation with 7 DPSS windows\n"
     ]
    }
   ],
   "source": [
    "import mne\n",
    "import numpy as np\n",
    "from matplotlib import pyplot as plt\n",
    "\n",
    "#def eeg_psd(fname):\n",
    "    #data_path='D:\\health_control\\eyeopen'\n",
    "    #fname=data_path+'\\jkdz_dhl_20180411_open.vhdr'\n",
    "print(__doc__)\n",
    "fname = 'jkdz_mwy_20180429_open.vhdr'\n",
    "raw=mne.io.read_raw_brainvision(fname,preload=True)\n",
    "raw.set_montage(mne.channels.read_montage(\"standard_1020\"))\n",
    "\n",
    "duration=10\n",
    "event_id=1\n",
    "events = mne.make_fixed_length_events(raw, event_id, duration=duration)\n",
    "print(events)\n",
    "epochs = mne.Epochs(raw,events=events,tmin=0, tmax=10,baseline=(None, 0),verbose=True,\n",
    "                    preload=True)\n",
    "#epochs.plot(scalings='auto', block=True)\n",
    "print(epochs)\n",
    "psd_all,freqs=mne.time_frequency.psd_multitaper(epochs,fmin=0,fmax=50,proj=True,n_jobs=1)\n",
    "\n",
    "\n"
   ]
  },
  {
   "cell_type": "code",
   "execution_count": null,
   "metadata": {},
   "outputs": [],
   "source": [
    "raw_delta=raw.copy()\n",
    "raw_theta=raw.copy()\n",
    "raw_alpha1=raw.copy()\n",
    "raw_alpha2=raw.copy()\n",
    "raw_beta=raw.copy()\n",
    "raw_gamma=raw.copy()\n",
    "raw_delta.filter(0.5,4,fir_design='firwin')\n",
    "raw_theta.filter(4,7,fir_design='firwin')\n",
    "raw_alpha1.filter(8,10,fir_design='firwin')\n",
    "raw_alpha2.filter(10,12,fir_design='firwin')\n",
    "raw_beta.filter(13,30,fir_design='firwin')\n",
    "raw_gamma.filter(30,40,fir_design='firwin')\n",
    "\n",
    "epochs_delta = mne.Epochs(raw_delta,events=events,tmin=0, tmax=10,baseline=(None, 0),verbose=True,\n",
    "                          preload=True)\n",
    "print(epochs_delta)\n",
    "del raw_delta\n",
    "psds_delta,freqs=mne.time_frequency.psd_multitaper(epochs_delta,fmin=0.5,fmax=4,proj=True,n_jobs=1)\n",
    "del epochs_delta\n",
    "\n"
   ]
  },
  {
   "cell_type": "code",
   "execution_count": null,
   "metadata": {},
   "outputs": [],
   "source": [
    "epochs_theta = mne.Epochs(raw_theta,events=events,tmin=0, tmax=10,baseline=(None, 0),verbose=True,\n",
    "                          preload=True)\n",
    "print(epochs_theta)\n",
    "del raw_theta\n",
    "psds_theta,freqs=mne.time_frequency.psd_multitaper(epochs_theta,fmin=4,fmax=7,proj=True,n_jobs=1)\n",
    "del epochs_theta\n",
    "\n",
    "\n",
    "epochs_alpha1 = mne.Epochs(raw_alpha1,events=events,tmin=0, tmax=10,baseline=(None, 0),verbose=True,\n",
    "                           preload=True)\n",
    "print(epochs_alpha1)\n",
    "del raw_alpha1\n",
    "psds_alpha1,freqs=mne.time_frequency.psd_multitaper(epochs_alpha1,fmin=8,fmax=10,proj=True,n_jobs=1)\n",
    "del epochs_alpha1\n",
    "\n",
    "\n",
    "epochs_alpha2 = mne.Epochs(raw_alpha2 ,events=events,tmin=0, tmax=10,baseline=(None, 0),verbose=True,\n",
    "                           preload=True)\n",
    "print(epochs_alpha2 )\n",
    "del raw_alpha2\n",
    "psds_alpha2 ,freqs=mne.time_frequency.psd_multitaper(epochs_alpha2 ,fmin=10,fmax=12,proj=True,n_jobs=1)\n",
    "del epochs_alpha2\n",
    "\n",
    "\n",
    "epochs_beta = mne.Epochs(raw_beta,events=events,tmin=0, tmax=10,baseline=(None, 0),verbose=True,\n",
    "                         preload=True)\n",
    "print(epochs_beta)\n",
    "del raw_beta\n",
    "psds_beta,freqs=mne.time_frequency.psd_multitaper(epochs_beta,fmin=13,fmax=30,proj=True,n_jobs=1)\n",
    "del epochs_beta\n",
    "\n",
    "epochs_gamma = mne.Epochs(raw_gamma,events=events,tmin=0, tmax=10,baseline=(None, 0),verbose=True,\n",
    "                          preload=True)\n",
    "print(epochs_gamma)\n",
    "del raw_gamma\n",
    "psds_gamma,freqs=mne.time_frequency.psd_multitaper(epochs_gamma,fmin=30,fmax=40,proj=True,n_jobs=1)\n",
    "del epochs_gamma\n",
    "\n",
    "psd_subfreq={}\n",
    "psd_subfreq['delta']=psds_delta\n",
    "psd_subfreq['theta']=psds_theta\n",
    "psd_subfreq['alpha1']=psds_alpha1\n",
    "psd_subfreq['alpha2']=psds_alpha2\n",
    "psd_subfreq['beta']=psds_beta\n",
    "psd_subfreq['gamma']=psds_gamma\n",
    "    \n",
    "#    return psd_all,psd_subfreq\n",
    "\n",
    "\n"
   ]
  },
  {
   "cell_type": "code",
   "execution_count": 1,
   "metadata": {},
   "outputs": [
    {
     "name": "stdout",
     "output_type": "stream",
     "text": [
      "Automatically created module for IPython interactive environment\n",
      "Extracting parameters from jkdz_mwy_20180429_open.vhdr...\n",
      "Setting channel info structure...\n",
      "Reading 0 ... 1007399  =      0.000 ...   201.480 secs...\n",
      "The following EEG sensors did not have a position specified in the selected montage: ['ECG']. Their position has been left untouched.\n"
     ]
    },
    {
     "name": "stderr",
     "output_type": "stream",
     "text": [
      "<ipython-input-1-830bb0197faa>:11: RuntimeWarning: The following EEG sensors did not have a position specified in the selected montage: ['ECG']. Their position has been left untouched.\n",
      "  raw.set_montage(mne.channels.read_montage(\"standard_1020\"))\n"
     ]
    },
    {
     "data": {
      "text/plain": [
       "<RawBrainVision  |  jkdz_mwy_20180429_open.eeg, n_channels x n_times : 65 x 1007400 (201.5 sec), ~499.7 MB, data loaded>"
      ]
     },
     "execution_count": 1,
     "metadata": {},
     "output_type": "execute_result"
    }
   ],
   "source": [
    "import mne\n",
    "import numpy as np\n",
    "from matplotlib import pyplot as plt\n",
    "\n",
    "#def eeg_psd(fname):\n",
    "    #data_path='D:\\health_control\\eyeopen'\n",
    "    #fname=data_path+'\\jkdz_dhl_20180411_open.vhdr'\n",
    "print(__doc__)\n",
    "fname = 'jkdz_mwy_20180429_open.vhdr'\n",
    "raw=mne.io.read_raw_brainvision(fname,preload=True)\n",
    "raw.set_montage(mne.channels.read_montage(\"standard_1020\"))"
   ]
  },
  {
   "cell_type": "code",
   "execution_count": 3,
   "metadata": {},
   "outputs": [
    {
     "name": "stdout",
     "output_type": "stream",
     "text": [
      "plot multitaper~~~~~~\n"
     ]
    },
    {
     "ename": "KeyboardInterrupt",
     "evalue": "",
     "output_type": "error",
     "traceback": [
      "\u001b[0;31m---------------------------------------------------------------------------\u001b[0m",
      "\u001b[0;31mKeyboardInterrupt\u001b[0m                         Traceback (most recent call last)",
      "\u001b[0;32m<ipython-input-3-95e7e6db8e6f>\u001b[0m in \u001b[0;36m<module>\u001b[0;34m()\u001b[0m\n\u001b[0;32m----> 1\u001b[0;31m \u001b[0mraw\u001b[0m\u001b[0;34m.\u001b[0m\u001b[0mplot_psd\u001b[0m\u001b[0;34m(\u001b[0m\u001b[0mfmin\u001b[0m\u001b[0;34m=\u001b[0m\u001b[0;36m30\u001b[0m\u001b[0;34m,\u001b[0m \u001b[0mfmax\u001b[0m\u001b[0;34m=\u001b[0m\u001b[0;36m40\u001b[0m\u001b[0;34m,\u001b[0m\u001b[0mn_overlap\u001b[0m\u001b[0;34m=\u001b[0m\u001b[0;36m128\u001b[0m\u001b[0;34m,\u001b[0m\u001b[0mn_fft\u001b[0m\u001b[0;34m=\u001b[0m\u001b[0;36m2\u001b[0m\u001b[0;34m)\u001b[0m\u001b[0;34m\u001b[0m\u001b[0m\n\u001b[0m",
      "\u001b[0;32m/Library/Frameworks/Python.framework/Versions/3.6/lib/python3.6/site-packages/mne/io/base.py\u001b[0m in \u001b[0;36mplot_psd\u001b[0;34m(self, tmin, tmax, fmin, fmax, proj, n_fft, picks, ax, color, area_mode, area_alpha, n_overlap, dB, estimate, average, show, n_jobs, line_alpha, spatial_colors, xscale, reject_by_annotation, verbose)\u001b[0m\n",
      "\u001b[0;32m/Library/Frameworks/Python.framework/Versions/3.6/lib/python3.6/site-packages/mne/utils.py\u001b[0m in \u001b[0;36mverbose\u001b[0;34m(function, *args, **kwargs)\u001b[0m\n\u001b[1;32m    727\u001b[0m         \u001b[0;32mwith\u001b[0m \u001b[0muse_log_level\u001b[0m\u001b[0;34m(\u001b[0m\u001b[0mverbose_level\u001b[0m\u001b[0;34m)\u001b[0m\u001b[0;34m:\u001b[0m\u001b[0;34m\u001b[0m\u001b[0m\n\u001b[1;32m    728\u001b[0m             \u001b[0;32mreturn\u001b[0m \u001b[0mfunction\u001b[0m\u001b[0;34m(\u001b[0m\u001b[0;34m*\u001b[0m\u001b[0margs\u001b[0m\u001b[0;34m,\u001b[0m \u001b[0;34m**\u001b[0m\u001b[0mkwargs\u001b[0m\u001b[0;34m)\u001b[0m\u001b[0;34m\u001b[0m\u001b[0m\n\u001b[0;32m--> 729\u001b[0;31m     \u001b[0;32mreturn\u001b[0m \u001b[0mfunction\u001b[0m\u001b[0;34m(\u001b[0m\u001b[0;34m*\u001b[0m\u001b[0margs\u001b[0m\u001b[0;34m,\u001b[0m \u001b[0;34m**\u001b[0m\u001b[0mkwargs\u001b[0m\u001b[0;34m)\u001b[0m\u001b[0;34m\u001b[0m\u001b[0m\n\u001b[0m\u001b[1;32m    730\u001b[0m \u001b[0;34m\u001b[0m\u001b[0m\n\u001b[1;32m    731\u001b[0m \u001b[0;34m\u001b[0m\u001b[0m\n",
      "\u001b[0;32m/Library/Frameworks/Python.framework/Versions/3.6/lib/python3.6/site-packages/mne/io/base.py\u001b[0m in \u001b[0;36mplot_psd\u001b[0;34m(self, tmin, tmax, fmin, fmax, proj, n_fft, picks, ax, color, area_mode, area_alpha, n_overlap, dB, estimate, average, show, n_jobs, line_alpha, spatial_colors, xscale, reject_by_annotation, verbose)\u001b[0m\n\u001b[1;32m   1779\u001b[0m             \u001b[0mestimate\u001b[0m\u001b[0;34m=\u001b[0m\u001b[0mestimate\u001b[0m\u001b[0;34m,\u001b[0m \u001b[0maverage\u001b[0m\u001b[0;34m=\u001b[0m\u001b[0maverage\u001b[0m\u001b[0;34m,\u001b[0m \u001b[0mshow\u001b[0m\u001b[0;34m=\u001b[0m\u001b[0mshow\u001b[0m\u001b[0;34m,\u001b[0m \u001b[0mn_jobs\u001b[0m\u001b[0;34m=\u001b[0m\u001b[0mn_jobs\u001b[0m\u001b[0;34m,\u001b[0m\u001b[0;34m\u001b[0m\u001b[0m\n\u001b[1;32m   1780\u001b[0m             \u001b[0mline_alpha\u001b[0m\u001b[0;34m=\u001b[0m\u001b[0mline_alpha\u001b[0m\u001b[0;34m,\u001b[0m \u001b[0mspatial_colors\u001b[0m\u001b[0;34m=\u001b[0m\u001b[0mspatial_colors\u001b[0m\u001b[0;34m,\u001b[0m\u001b[0;34m\u001b[0m\u001b[0m\n\u001b[0;32m-> 1781\u001b[0;31m             xscale=xscale, reject_by_annotation=reject_by_annotation)\n\u001b[0m\u001b[1;32m   1782\u001b[0m \u001b[0;34m\u001b[0m\u001b[0m\n\u001b[1;32m   1783\u001b[0m     \u001b[0;34m@\u001b[0m\u001b[0mcopy_function_doc_to_method_doc\u001b[0m\u001b[0;34m(\u001b[0m\u001b[0mplot_raw_psd_topo\u001b[0m\u001b[0;34m)\u001b[0m\u001b[0;34m\u001b[0m\u001b[0m\n",
      "\u001b[0;32m/Library/Frameworks/Python.framework/Versions/3.6/lib/python3.6/site-packages/mne/viz/raw.py\u001b[0m in \u001b[0;36mplot_raw_psd\u001b[0;34m(raw, tmin, tmax, fmin, fmax, proj, n_fft, picks, ax, color, area_mode, area_alpha, n_overlap, dB, estimate, average, show, n_jobs, line_alpha, spatial_colors, xscale, reject_by_annotation, verbose)\u001b[0m\n",
      "\u001b[0;32m/Library/Frameworks/Python.framework/Versions/3.6/lib/python3.6/site-packages/mne/utils.py\u001b[0m in \u001b[0;36mverbose\u001b[0;34m(function, *args, **kwargs)\u001b[0m\n\u001b[1;32m    727\u001b[0m         \u001b[0;32mwith\u001b[0m \u001b[0muse_log_level\u001b[0m\u001b[0;34m(\u001b[0m\u001b[0mverbose_level\u001b[0m\u001b[0;34m)\u001b[0m\u001b[0;34m:\u001b[0m\u001b[0;34m\u001b[0m\u001b[0m\n\u001b[1;32m    728\u001b[0m             \u001b[0;32mreturn\u001b[0m \u001b[0mfunction\u001b[0m\u001b[0;34m(\u001b[0m\u001b[0;34m*\u001b[0m\u001b[0margs\u001b[0m\u001b[0;34m,\u001b[0m \u001b[0;34m**\u001b[0m\u001b[0mkwargs\u001b[0m\u001b[0;34m)\u001b[0m\u001b[0;34m\u001b[0m\u001b[0m\n\u001b[0;32m--> 729\u001b[0;31m     \u001b[0;32mreturn\u001b[0m \u001b[0mfunction\u001b[0m\u001b[0;34m(\u001b[0m\u001b[0;34m*\u001b[0m\u001b[0margs\u001b[0m\u001b[0;34m,\u001b[0m \u001b[0;34m**\u001b[0m\u001b[0mkwargs\u001b[0m\u001b[0;34m)\u001b[0m\u001b[0;34m\u001b[0m\u001b[0m\n\u001b[0m\u001b[1;32m    730\u001b[0m \u001b[0;34m\u001b[0m\u001b[0m\n\u001b[1;32m    731\u001b[0m \u001b[0;34m\u001b[0m\u001b[0m\n",
      "\u001b[0;32m/Library/Frameworks/Python.framework/Versions/3.6/lib/python3.6/site-packages/mne/viz/raw.py\u001b[0m in \u001b[0;36mplot_raw_psd\u001b[0;34m(raw, tmin, tmax, fmin, fmax, proj, n_fft, picks, ax, color, area_mode, area_alpha, n_overlap, dB, estimate, average, show, n_jobs, line_alpha, spatial_colors, xscale, reject_by_annotation, verbose)\u001b[0m\n\u001b[1;32m    773\u001b[0m         psds, freqs = psd_multitaper(raw, tmin=tmin, tmax=tmax, fmin=fmin,\n\u001b[1;32m    774\u001b[0m                             \u001b[0mfmax\u001b[0m\u001b[0;34m=\u001b[0m\u001b[0mfmax\u001b[0m\u001b[0;34m,\u001b[0m \u001b[0mproj\u001b[0m\u001b[0;34m=\u001b[0m\u001b[0mproj\u001b[0m\u001b[0;34m,\u001b[0m\u001b[0mbandwidth\u001b[0m\u001b[0;34m=\u001b[0m\u001b[0mn_fft\u001b[0m\u001b[0;34m,\u001b[0m\u001b[0;34m\u001b[0m\u001b[0m\n\u001b[0;32m--> 775\u001b[0;31m                             n_jobs=n_jobs)\n\u001b[0m\u001b[1;32m    776\u001b[0m \u001b[0;34m\u001b[0m\u001b[0m\n\u001b[1;32m    777\u001b[0m         ylabel = _convert_psds(psds, dB, estimate, scalings_list[ii],\n",
      "\u001b[0;32m/Library/Frameworks/Python.framework/Versions/3.6/lib/python3.6/site-packages/mne/time_frequency/psd.py\u001b[0m in \u001b[0;36mpsd_multitaper\u001b[0;34m(inst, fmin, fmax, tmin, tmax, bandwidth, adaptive, low_bias, normalization, picks, proj, n_jobs, verbose)\u001b[0m\n",
      "\u001b[0;32m/Library/Frameworks/Python.framework/Versions/3.6/lib/python3.6/site-packages/mne/utils.py\u001b[0m in \u001b[0;36mverbose\u001b[0;34m(function, *args, **kwargs)\u001b[0m\n\u001b[1;32m    727\u001b[0m         \u001b[0;32mwith\u001b[0m \u001b[0muse_log_level\u001b[0m\u001b[0;34m(\u001b[0m\u001b[0mverbose_level\u001b[0m\u001b[0;34m)\u001b[0m\u001b[0;34m:\u001b[0m\u001b[0;34m\u001b[0m\u001b[0m\n\u001b[1;32m    728\u001b[0m             \u001b[0;32mreturn\u001b[0m \u001b[0mfunction\u001b[0m\u001b[0;34m(\u001b[0m\u001b[0;34m*\u001b[0m\u001b[0margs\u001b[0m\u001b[0;34m,\u001b[0m \u001b[0;34m**\u001b[0m\u001b[0mkwargs\u001b[0m\u001b[0;34m)\u001b[0m\u001b[0;34m\u001b[0m\u001b[0m\n\u001b[0;32m--> 729\u001b[0;31m     \u001b[0;32mreturn\u001b[0m \u001b[0mfunction\u001b[0m\u001b[0;34m(\u001b[0m\u001b[0;34m*\u001b[0m\u001b[0margs\u001b[0m\u001b[0;34m,\u001b[0m \u001b[0;34m**\u001b[0m\u001b[0mkwargs\u001b[0m\u001b[0;34m)\u001b[0m\u001b[0;34m\u001b[0m\u001b[0m\n\u001b[0m\u001b[1;32m    730\u001b[0m \u001b[0;34m\u001b[0m\u001b[0m\n\u001b[1;32m    731\u001b[0m \u001b[0;34m\u001b[0m\u001b[0m\n",
      "\u001b[0;32m/Library/Frameworks/Python.framework/Versions/3.6/lib/python3.6/site-packages/mne/time_frequency/psd.py\u001b[0m in \u001b[0;36mpsd_multitaper\u001b[0;34m(inst, fmin, fmax, tmin, tmax, bandwidth, adaptive, low_bias, normalization, picks, proj, n_jobs, verbose)\u001b[0m\n\u001b[1;32m    295\u001b[0m                                 \u001b[0mbandwidth\u001b[0m\u001b[0;34m=\u001b[0m\u001b[0mbandwidth\u001b[0m\u001b[0;34m,\u001b[0m \u001b[0madaptive\u001b[0m\u001b[0;34m=\u001b[0m\u001b[0madaptive\u001b[0m\u001b[0;34m,\u001b[0m\u001b[0;34m\u001b[0m\u001b[0m\n\u001b[1;32m    296\u001b[0m                                 \u001b[0mlow_bias\u001b[0m\u001b[0;34m=\u001b[0m\u001b[0mlow_bias\u001b[0m\u001b[0;34m,\u001b[0m \u001b[0mnormalization\u001b[0m\u001b[0;34m=\u001b[0m\u001b[0mnormalization\u001b[0m\u001b[0;34m,\u001b[0m\u001b[0;34m\u001b[0m\u001b[0m\n\u001b[0;32m--> 297\u001b[0;31m                                 n_jobs=n_jobs, verbose=verbose)\n\u001b[0m",
      "\u001b[0;32m/Library/Frameworks/Python.framework/Versions/3.6/lib/python3.6/site-packages/mne/time_frequency/multitaper.py\u001b[0m in \u001b[0;36mpsd_array_multitaper\u001b[0;34m(x, sfreq, fmin, fmax, bandwidth, adaptive, low_bias, normalization, n_jobs, verbose)\u001b[0m\n",
      "\u001b[0;32m/Library/Frameworks/Python.framework/Versions/3.6/lib/python3.6/site-packages/mne/utils.py\u001b[0m in \u001b[0;36mverbose\u001b[0;34m(function, *args, **kwargs)\u001b[0m\n\u001b[1;32m    727\u001b[0m         \u001b[0;32mwith\u001b[0m \u001b[0muse_log_level\u001b[0m\u001b[0;34m(\u001b[0m\u001b[0mverbose_level\u001b[0m\u001b[0;34m)\u001b[0m\u001b[0;34m:\u001b[0m\u001b[0;34m\u001b[0m\u001b[0m\n\u001b[1;32m    728\u001b[0m             \u001b[0;32mreturn\u001b[0m \u001b[0mfunction\u001b[0m\u001b[0;34m(\u001b[0m\u001b[0;34m*\u001b[0m\u001b[0margs\u001b[0m\u001b[0;34m,\u001b[0m \u001b[0;34m**\u001b[0m\u001b[0mkwargs\u001b[0m\u001b[0;34m)\u001b[0m\u001b[0;34m\u001b[0m\u001b[0m\n\u001b[0;32m--> 729\u001b[0;31m     \u001b[0;32mreturn\u001b[0m \u001b[0mfunction\u001b[0m\u001b[0;34m(\u001b[0m\u001b[0;34m*\u001b[0m\u001b[0margs\u001b[0m\u001b[0;34m,\u001b[0m \u001b[0;34m**\u001b[0m\u001b[0mkwargs\u001b[0m\u001b[0;34m)\u001b[0m\u001b[0;34m\u001b[0m\u001b[0m\n\u001b[0m\u001b[1;32m    730\u001b[0m \u001b[0;34m\u001b[0m\u001b[0m\n\u001b[1;32m    731\u001b[0m \u001b[0;34m\u001b[0m\u001b[0m\n",
      "\u001b[0;32m/Library/Frameworks/Python.framework/Versions/3.6/lib/python3.6/site-packages/mne/time_frequency/multitaper.py\u001b[0m in \u001b[0;36mpsd_array_multitaper\u001b[0;34m(x, sfreq, fmin, fmax, bandwidth, adaptive, low_bias, normalization, n_jobs, verbose)\u001b[0m\n\u001b[1;32m    550\u001b[0m \u001b[0;34m\u001b[0m\u001b[0m\n\u001b[1;32m    551\u001b[0m     dpss, eigvals, adaptive = _compute_mt_params(\n\u001b[0;32m--> 552\u001b[0;31m         n_times, sfreq, bandwidth, low_bias, adaptive)\n\u001b[0m\u001b[1;32m    553\u001b[0m \u001b[0;34m\u001b[0m\u001b[0m\n\u001b[1;32m    554\u001b[0m     \u001b[0;31m# decide which frequencies to keep\u001b[0m\u001b[0;34m\u001b[0m\u001b[0;34m\u001b[0m\u001b[0m\n",
      "\u001b[0;32m/Library/Frameworks/Python.framework/Versions/3.6/lib/python3.6/site-packages/mne/time_frequency/multitaper.py\u001b[0m in \u001b[0;36m_compute_mt_params\u001b[0;34m(n_times, sfreq, bandwidth, low_bias, adaptive, interp_from, verbose)\u001b[0m\n",
      "\u001b[0;32m/Library/Frameworks/Python.framework/Versions/3.6/lib/python3.6/site-packages/mne/utils.py\u001b[0m in \u001b[0;36mverbose\u001b[0;34m(function, *args, **kwargs)\u001b[0m\n\u001b[1;32m    727\u001b[0m         \u001b[0;32mwith\u001b[0m \u001b[0muse_log_level\u001b[0m\u001b[0;34m(\u001b[0m\u001b[0mverbose_level\u001b[0m\u001b[0;34m)\u001b[0m\u001b[0;34m:\u001b[0m\u001b[0;34m\u001b[0m\u001b[0m\n\u001b[1;32m    728\u001b[0m             \u001b[0;32mreturn\u001b[0m \u001b[0mfunction\u001b[0m\u001b[0;34m(\u001b[0m\u001b[0;34m*\u001b[0m\u001b[0margs\u001b[0m\u001b[0;34m,\u001b[0m \u001b[0;34m**\u001b[0m\u001b[0mkwargs\u001b[0m\u001b[0;34m)\u001b[0m\u001b[0;34m\u001b[0m\u001b[0m\n\u001b[0;32m--> 729\u001b[0;31m     \u001b[0;32mreturn\u001b[0m \u001b[0mfunction\u001b[0m\u001b[0;34m(\u001b[0m\u001b[0;34m*\u001b[0m\u001b[0margs\u001b[0m\u001b[0;34m,\u001b[0m \u001b[0;34m**\u001b[0m\u001b[0mkwargs\u001b[0m\u001b[0;34m)\u001b[0m\u001b[0;34m\u001b[0m\u001b[0m\n\u001b[0m\u001b[1;32m    730\u001b[0m \u001b[0;34m\u001b[0m\u001b[0m\n\u001b[1;32m    731\u001b[0m \u001b[0;34m\u001b[0m\u001b[0m\n",
      "\u001b[0;32m/Library/Frameworks/Python.framework/Versions/3.6/lib/python3.6/site-packages/mne/time_frequency/multitaper.py\u001b[0m in \u001b[0;36m_compute_mt_params\u001b[0;34m(n_times, sfreq, bandwidth, low_bias, adaptive, interp_from, verbose)\u001b[0m\n\u001b[1;32m    473\u001b[0m     window_fun, eigvals = dpss_windows(n_times, half_nbw, n_tapers_max,\n\u001b[1;32m    474\u001b[0m                                        \u001b[0mlow_bias\u001b[0m\u001b[0;34m=\u001b[0m\u001b[0mlow_bias\u001b[0m\u001b[0;34m,\u001b[0m\u001b[0;34m\u001b[0m\u001b[0m\n\u001b[0;32m--> 475\u001b[0;31m                                        interp_from=interp_from)\n\u001b[0m\u001b[1;32m    476\u001b[0m     logger.info('    using multitaper spectrum estimation with %d DPSS '\n\u001b[1;32m    477\u001b[0m                 'windows' % len(eigvals))\n",
      "\u001b[0;32m/Library/Frameworks/Python.framework/Versions/3.6/lib/python3.6/site-packages/mne/time_frequency/multitaper.py\u001b[0m in \u001b[0;36mdpss_windows\u001b[0;34m(N, half_nbw, Kmax, low_bias, interp_from, interp_kind)\u001b[0m\n\u001b[1;32m    212\u001b[0m         \u001b[0;32mfor\u001b[0m \u001b[0mk\u001b[0m \u001b[0;32min\u001b[0m \u001b[0mrange\u001b[0m\u001b[0;34m(\u001b[0m\u001b[0mKmax\u001b[0m\u001b[0;34m)\u001b[0m\u001b[0;34m:\u001b[0m\u001b[0;34m\u001b[0m\u001b[0m\n\u001b[1;32m    213\u001b[0m             dpss[k] = tridi_inverse_iteration(diagonal, off_diag, w[k],\n\u001b[0;32m--> 214\u001b[0;31m                                               x0=np.sin((k + 1) * t))\n\u001b[0m\u001b[1;32m    215\u001b[0m \u001b[0;34m\u001b[0m\u001b[0m\n\u001b[1;32m    216\u001b[0m     \u001b[0;31m# By convention (Percival and Walden, 1993 pg 379)\u001b[0m\u001b[0;34m\u001b[0m\u001b[0;34m\u001b[0m\u001b[0m\n",
      "\u001b[0;32m/Library/Frameworks/Python.framework/Versions/3.6/lib/python3.6/site-packages/mne/time_frequency/multitaper.py\u001b[0m in \u001b[0;36mtridi_inverse_iteration\u001b[0;34m(d, e, w, x0, rtol)\u001b[0m\n\u001b[1;32m     93\u001b[0m     \u001b[0;32mwhile\u001b[0m \u001b[0mnp\u001b[0m\u001b[0;34m.\u001b[0m\u001b[0mlinalg\u001b[0m\u001b[0;34m.\u001b[0m\u001b[0mnorm\u001b[0m\u001b[0;34m(\u001b[0m\u001b[0mnp\u001b[0m\u001b[0;34m.\u001b[0m\u001b[0mabs\u001b[0m\u001b[0;34m(\u001b[0m\u001b[0mx0\u001b[0m\u001b[0;34m)\u001b[0m \u001b[0;34m-\u001b[0m \u001b[0mnp\u001b[0m\u001b[0;34m.\u001b[0m\u001b[0mabs\u001b[0m\u001b[0;34m(\u001b[0m\u001b[0mx_prev\u001b[0m\u001b[0;34m)\u001b[0m\u001b[0;34m)\u001b[0m \u001b[0;34m>\u001b[0m \u001b[0mrtol\u001b[0m\u001b[0;34m:\u001b[0m\u001b[0;34m\u001b[0m\u001b[0m\n\u001b[1;32m     94\u001b[0m         \u001b[0mx_prev\u001b[0m \u001b[0;34m=\u001b[0m \u001b[0mx0\u001b[0m\u001b[0;34m.\u001b[0m\u001b[0mcopy\u001b[0m\u001b[0;34m(\u001b[0m\u001b[0;34m)\u001b[0m\u001b[0;34m\u001b[0m\u001b[0m\n\u001b[0;32m---> 95\u001b[0;31m         \u001b[0mtridisolve\u001b[0m\u001b[0;34m(\u001b[0m\u001b[0meig_diag\u001b[0m\u001b[0;34m,\u001b[0m \u001b[0me\u001b[0m\u001b[0;34m,\u001b[0m \u001b[0mx0\u001b[0m\u001b[0;34m)\u001b[0m\u001b[0;34m\u001b[0m\u001b[0m\n\u001b[0m\u001b[1;32m     96\u001b[0m         \u001b[0mnorm_x\u001b[0m \u001b[0;34m=\u001b[0m \u001b[0mnp\u001b[0m\u001b[0;34m.\u001b[0m\u001b[0mlinalg\u001b[0m\u001b[0;34m.\u001b[0m\u001b[0mnorm\u001b[0m\u001b[0;34m(\u001b[0m\u001b[0mx0\u001b[0m\u001b[0;34m)\u001b[0m\u001b[0;34m\u001b[0m\u001b[0m\n\u001b[1;32m     97\u001b[0m         \u001b[0mx0\u001b[0m \u001b[0;34m/=\u001b[0m \u001b[0mnorm_x\u001b[0m\u001b[0;34m\u001b[0m\u001b[0m\n",
      "\u001b[0;32m/Library/Frameworks/Python.framework/Versions/3.6/lib/python3.6/site-packages/mne/time_frequency/multitaper.py\u001b[0m in \u001b[0;36mtridisolve\u001b[0;34m(d, e, b, overwrite_b)\u001b[0m\n\u001b[1;32m     51\u001b[0m     \u001b[0mx\u001b[0m\u001b[0;34m[\u001b[0m\u001b[0mN\u001b[0m \u001b[0;34m-\u001b[0m \u001b[0;36m1\u001b[0m\u001b[0;34m]\u001b[0m \u001b[0;34m=\u001b[0m \u001b[0mx\u001b[0m\u001b[0;34m[\u001b[0m\u001b[0mN\u001b[0m \u001b[0;34m-\u001b[0m \u001b[0;36m1\u001b[0m\u001b[0;34m]\u001b[0m \u001b[0;34m/\u001b[0m \u001b[0mdw\u001b[0m\u001b[0;34m[\u001b[0m\u001b[0mN\u001b[0m \u001b[0;34m-\u001b[0m \u001b[0;36m1\u001b[0m\u001b[0;34m]\u001b[0m\u001b[0;34m\u001b[0m\u001b[0m\n\u001b[1;32m     52\u001b[0m     \u001b[0;32mfor\u001b[0m \u001b[0mk\u001b[0m \u001b[0;32min\u001b[0m \u001b[0mrange\u001b[0m\u001b[0;34m(\u001b[0m\u001b[0mN\u001b[0m \u001b[0;34m-\u001b[0m \u001b[0;36m2\u001b[0m\u001b[0;34m,\u001b[0m \u001b[0;34m-\u001b[0m\u001b[0;36m1\u001b[0m\u001b[0;34m,\u001b[0m \u001b[0;34m-\u001b[0m\u001b[0;36m1\u001b[0m\u001b[0;34m)\u001b[0m\u001b[0;34m:\u001b[0m\u001b[0;34m\u001b[0m\u001b[0m\n\u001b[0;32m---> 53\u001b[0;31m         \u001b[0mx\u001b[0m\u001b[0;34m[\u001b[0m\u001b[0mk\u001b[0m\u001b[0;34m]\u001b[0m \u001b[0;34m=\u001b[0m \u001b[0mx\u001b[0m\u001b[0;34m[\u001b[0m\u001b[0mk\u001b[0m\u001b[0;34m]\u001b[0m \u001b[0;34m/\u001b[0m \u001b[0mdw\u001b[0m\u001b[0;34m[\u001b[0m\u001b[0mk\u001b[0m\u001b[0;34m]\u001b[0m \u001b[0;34m-\u001b[0m \u001b[0mew\u001b[0m\u001b[0;34m[\u001b[0m\u001b[0mk\u001b[0m\u001b[0;34m]\u001b[0m \u001b[0;34m*\u001b[0m \u001b[0mx\u001b[0m\u001b[0;34m[\u001b[0m\u001b[0mk\u001b[0m \u001b[0;34m+\u001b[0m \u001b[0;36m1\u001b[0m\u001b[0;34m]\u001b[0m\u001b[0;34m\u001b[0m\u001b[0m\n\u001b[0m\u001b[1;32m     54\u001b[0m \u001b[0;34m\u001b[0m\u001b[0m\n\u001b[1;32m     55\u001b[0m     \u001b[0;32mif\u001b[0m \u001b[0;32mnot\u001b[0m \u001b[0moverwrite_b\u001b[0m\u001b[0;34m:\u001b[0m\u001b[0;34m\u001b[0m\u001b[0m\n",
      "\u001b[0;31mKeyboardInterrupt\u001b[0m: "
     ]
    },
    {
     "data": {
      "image/png": "[encoded data removed]",
      "text/plain": [
       "<matplotlib.figure.Figure at 0x109dc86d8>"
      ]
     },
     "metadata": {
      "needs_background": "light"
     },
     "output_type": "display_data"
    }
   ],
   "source": [
    "raw.plot_psd(fmin=30, fmax=40,n_overlap=128,n_fft=2)"
   ]
  },
  {
   "cell_type": "code",
   "execution_count": 9,
   "metadata": {},
   "outputs": [
    {
     "name": "stdout",
     "output_type": "stream",
     "text": [
      "Effective window size : 0.051 (s)\n"
     ]
    }
   ],
   "source": [
    "psd_all, freqs = mne.time_frequency.psd_welch(raw,fmin=0, fmax=40, n_overlap=128,n_per_seg=512)"
   ]
  },
  {
   "cell_type": "code",
   "execution_count": 10,
   "metadata": {},
   "outputs": [
    {
     "data": {
      "text/plain": [
       "array([ 0.     , 19.53125, 39.0625 ])"
      ]
     },
     "execution_count": 10,
     "metadata": {},
     "output_type": "execute_result"
    }
   ],
   "source": [
    "freqs"
   ]
  },
  {
   "cell_type": "code",
   "execution_count": null,
   "metadata": {},
   "outputs": [
    {
     "name": "stdout",
     "output_type": "stream",
     "text": [
      "in multitapers\n",
      "what the hell\n",
      "bandwidth~~~~~~~~\n",
      "2\n"
     ]
    }
   ],
   "source": [
    "psd_all, freqs = mne.time_frequency.psd_multitaper(raw,fmin=13, fmax=30, bandwidth=2)"
   ]
  },
  {
   "cell_type": "code",
   "execution_count": 44,
   "metadata": {},
   "outputs": [
    {
     "data": {
      "text/plain": [
       "array([5.80014564e-09, 6.92743880e-09, 8.12205309e-09, ...,\n",
       "       8.69801124e-09, 7.06848818e-09, 6.89150795e-09])"
      ]
     },
     "execution_count": 44,
     "metadata": {},
     "output_type": "execute_result"
    }
   ],
   "source": [
    "psd_all[0]\n"
   ]
  },
  {
   "cell_type": "code",
   "execution_count": null,
   "metadata": {},
   "outputs": [],
   "source": []
  }
 ],
 "metadata": {
  "kernelspec": {
   "display_name": "Python 3",
   "language": "python",
   "name": "python3"
  },
  "language_info": {
   "codemirror_mode": {
    "name": "ipython",
    "version": 3
   },
   "file_extension": ".py",
   "mimetype": "text/x-python",
   "name": "python",
   "nbconvert_exporter": "python",
   "pygments_lexer": "ipython3",
   "version": "3.6.1"
  }
 },
 "nbformat": 4,
 "nbformat_minor": 2
}
